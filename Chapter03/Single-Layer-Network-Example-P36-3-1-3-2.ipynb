{
 "cells": [
  {
   "cell_type": "markdown",
   "metadata": {},
   "source": [
    "**[SNE-01]** モジュールをインポートして、乱数のシードを設定します。"
   ]
  },
  {
   "cell_type": "code",
   "execution_count": 1,
   "metadata": {},
   "outputs": [],
   "source": [
    "import tensorflow as tf\n",
    "import numpy as np\n",
    "import matplotlib.pyplot as plt\n",
    "from numpy.random import multivariate_normal, permutation\n",
    "import pandas as pd\n",
    "from pandas import DataFrame, Series\n",
    "\n",
    "np.random.seed(20160614)\n",
    "tf.set_random_seed(20160614)"
   ]
  },
  {
   "cell_type": "markdown",
   "metadata": {},
   "source": [
    "**[SNE-02]** トレーニングセットのデータを生成します。"
   ]
  },
  {
   "cell_type": "code",
   "execution_count": 2,
   "metadata": {},
   "outputs": [],
   "source": [
    "def generate_datablock(n, mu, var, t):\n",
    "    data = multivariate_normal(mu, np.eye(2)*var, n)\n",
    "    df = DataFrame(data, columns=['x1','x2'])\n",
    "    df['t'] = t\n",
    "    return df\n",
    "\n",
    "df0 = generate_datablock(15, [7,7], 22, 0)\n",
    "df1 = generate_datablock(15, [22,7], 22, 0)\n",
    "df2 = generate_datablock(10, [7,22], 22, 0)\n",
    "df3 = generate_datablock(25, [20,20], 22, 1)\n",
    "\n",
    "df = pd.concat([df0, df1, df2, df3], ignore_index=True)\n",
    "train_set = df.reindex(permutation(df.index)).reset_index(drop=True)"
   ]
  },
  {
   "cell_type": "markdown",
   "metadata": {},
   "source": [
    "**[SNE-03]** (x1, x2) と t を別々に集めたものをNumPyのarrayオブジェクトとして取り出しておきます。"
   ]
  },
  {
   "cell_type": "code",
   "execution_count": 3,
   "metadata": {},
   "outputs": [],
   "source": [
    "train_x = train_set[['x1','x2']].values\n",
    "train_t = train_set['t'].values.reshape([len(train_set), 1])"
   ]
  },
  {
   "cell_type": "markdown",
   "metadata": {},
   "source": [
    "**[SNE-04]** 単層ネットワークによる二項分類器のモデルを定義。隠れ層のノードを４個に増やした。活性化関数をtanhからReLUに変更。"
   ]
  },
  {
   "cell_type": "code",
   "execution_count": 4,
   "metadata": {},
   "outputs": [],
   "source": [
    "num_units = 4\n",
    "mult = train_x.flatten().mean()\n",
    "\n",
    "x = tf.placeholder(tf.float32, [None, 2])\n",
    "\n",
    "w1 = tf.Variable(tf.truncated_normal([2, num_units]))\n",
    "b1 = tf.Variable(tf.zeros([num_units]))\n",
    "hidden1 = tf.nn.relu(tf.matmul(x, w1) + b1*mult)\n",
    "\n",
    "w0 = tf.Variable(tf.zeros([num_units, 1]))\n",
    "b0 = tf.Variable(tf.zeros([1]))\n",
    "p = tf.nn.sigmoid(tf.matmul(hidden1, w0) + b0*mult)"
   ]
  },
  {
   "cell_type": "markdown",
   "metadata": {},
   "source": [
    "**[SNE-05]** 誤差関数 loss、トレーニングアルゴリズム train_step、正解率 accuracy を定義。学習率を0.0005に変更。"
   ]
  },
  {
   "cell_type": "code",
   "execution_count": 5,
   "metadata": {},
   "outputs": [],
   "source": [
    "t = tf.placeholder(tf.float32, [None, 1])\n",
    "loss = -tf.reduce_sum(t*tf.log(p) + (1-t)*tf.log(1-p))\n",
    "train_step = tf.train.GradientDescentOptimizer(0.0005).minimize(loss)\n",
    "correct_prediction = tf.equal(tf.sign(p-0.5), tf.sign(t-0.5))\n",
    "accuracy = tf.reduce_mean(tf.cast(correct_prediction, tf.float32))"
   ]
  },
  {
   "cell_type": "markdown",
   "metadata": {},
   "source": [
    "**[SNE-06]** セッションを用意して、Variableを初期化します。"
   ]
  },
  {
   "cell_type": "code",
   "execution_count": 6,
   "metadata": {},
   "outputs": [],
   "source": [
    "### >>> with GPU 80%\n",
    "#gpuConfig = tf.ConfigProto(\n",
    "#    gpu_options = tf.GPUOptions(\n",
    "#        per_process_gpu_memory_fraction = 0.8),\n",
    "#    device_count = {'GPU':0})\n",
    "#sess = tf.Session(config = gpuConfig)\n",
    "### <<<\n",
    "#\n",
    "### >>> with CPU only\n",
    "sess = tf.Session()\n",
    "### <<<\n",
    "sess.run(tf.global_variables_initializer())"
   ]
  },
  {
   "cell_type": "markdown",
   "metadata": {},
   "source": [
    "**[SNE-07]** パラメーターの最適化を4000回繰り返します。"
   ]
  },
  {
   "cell_type": "code",
   "execution_count": 7,
   "metadata": {
    "scrolled": true
   },
   "outputs": [
    {
     "name": "stdout",
     "output_type": "stream",
     "text": [
      "Step: 100, Loss: 9.366993, Accuracy: 0.938462\n",
      "Step: 200, Loss: 8.049070, Accuracy: 0.938462\n",
      "Step: 300, Loss: 7.477160, Accuracy: 0.953846\n",
      "Step: 400, Loss: 7.142677, Accuracy: 0.953846\n",
      "Step: 500, Loss: 6.928401, Accuracy: 0.953846\n",
      "Step: 600, Loss: 6.782909, Accuracy: 0.953846\n",
      "Step: 700, Loss: 6.678552, Accuracy: 0.953846\n",
      "Step: 800, Loss: 6.599197, Accuracy: 0.953846\n",
      "Step: 900, Loss: 6.535864, Accuracy: 0.953846\n",
      "Step: 1000, Loss: 6.483109, Accuracy: 0.953846\n",
      "Step: 1100, Loss: 6.437623, Accuracy: 0.953846\n",
      "Step: 1200, Loss: 6.397323, Accuracy: 0.953846\n",
      "Step: 1300, Loss: 6.360862, Accuracy: 0.953846\n",
      "Step: 1400, Loss: 6.327359, Accuracy: 0.953846\n",
      "Step: 1500, Loss: 6.296233, Accuracy: 0.953846\n",
      "Step: 1600, Loss: 6.267182, Accuracy: 0.953846\n",
      "Step: 1700, Loss: 6.239765, Accuracy: 0.953846\n",
      "Step: 1800, Loss: 6.213774, Accuracy: 0.953846\n",
      "Step: 1900, Loss: 6.189058, Accuracy: 0.953846\n",
      "Step: 2000, Loss: 6.165509, Accuracy: 0.953846\n",
      "Step: 2100, Loss: 6.143009, Accuracy: 0.953846\n",
      "Step: 2200, Loss: 6.121482, Accuracy: 0.953846\n",
      "Step: 2300, Loss: 6.100857, Accuracy: 0.953846\n",
      "Step: 2400, Loss: 6.081074, Accuracy: 0.953846\n",
      "Step: 2500, Loss: 6.062083, Accuracy: 0.953846\n",
      "Step: 2600, Loss: 6.043831, Accuracy: 0.953846\n",
      "Step: 2700, Loss: 6.026279, Accuracy: 0.953846\n",
      "Step: 2800, Loss: 6.009379, Accuracy: 0.953846\n",
      "Step: 2900, Loss: 5.993101, Accuracy: 0.953846\n",
      "Step: 3000, Loss: 5.977407, Accuracy: 0.953846\n",
      "Step: 3100, Loss: 5.962264, Accuracy: 0.953846\n",
      "Step: 3200, Loss: 5.947642, Accuracy: 0.953846\n",
      "Step: 3300, Loss: 5.933318, Accuracy: 0.953846\n",
      "Step: 3400, Loss: 5.918868, Accuracy: 0.953846\n",
      "Step: 3500, Loss: 5.905005, Accuracy: 0.953846\n",
      "Step: 3600, Loss: 5.891660, Accuracy: 0.953846\n",
      "Step: 3700, Loss: 5.878796, Accuracy: 0.953846\n",
      "Step: 3800, Loss: 5.866374, Accuracy: 0.953846\n",
      "Step: 3900, Loss: 5.854375, Accuracy: 0.953846\n",
      "Step: 4000, Loss: 5.842767, Accuracy: 0.953846\n"
     ]
    }
   ],
   "source": [
    "i = 0\n",
    "for _ in range(4000):\n",
    "    i += 1\n",
    "    sess.run(train_step, feed_dict={x:train_x, t:train_t})\n",
    "    if i % 100 == 0:\n",
    "        loss_val, acc_val = sess.run(\n",
    "            [loss, accuracy], feed_dict={x:train_x, t:train_t})\n",
    "        print ('Step: %d, Loss: %f, Accuracy: %f'\n",
    "               % (i, loss_val, acc_val))"
   ]
  },
  {
   "cell_type": "markdown",
   "metadata": {},
   "source": [
    "**[SNE-08]** 得られた確率を色の濃淡で図示します。"
   ]
  },
  {
   "cell_type": "code",
   "execution_count": 8,
   "metadata": {},
   "outputs": [
    {
     "data": {
      "text/plain": [
       "<matplotlib.image.AxesImage at 0x26267c22780>"
      ]
     },
     "execution_count": 8,
     "metadata": {},
     "output_type": "execute_result"
    },
    {
     "data": {
      "image/png": "[encoded data removed]",
      "text/plain": [
       "<Figure size 432x432 with 1 Axes>"
      ]
     },
     "metadata": {
      "needs_background": "light"
     },
     "output_type": "display_data"
    }
   ],
   "source": [
    "train_set1 = train_set[train_set['t']==1]\n",
    "train_set2 = train_set[train_set['t']==0]\n",
    "\n",
    "fig = plt.figure(figsize=(6,6))\n",
    "subplot = fig.add_subplot(1,1,1)\n",
    "subplot.set_ylim([0,30])\n",
    "subplot.set_xlim([0,30])\n",
    "subplot.scatter(train_set1.x1, train_set1.x2, marker='x')\n",
    "subplot.scatter(train_set2.x1, train_set2.x2, marker='o')\n",
    "\n",
    "locations = []\n",
    "for x2 in np.linspace(0,30,100):\n",
    "    for x1 in np.linspace(0,30,100):\n",
    "        locations.append((x1,x2))\n",
    "p_vals = sess.run(p, feed_dict={x:locations})\n",
    "p_vals = p_vals.reshape((100,100))\n",
    "subplot.imshow(p_vals, origin='lower', extent=(0,30,0,30),\n",
    "               cmap=plt.cm.gray_r, alpha=0.5)"
   ]
  },
  {
   "cell_type": "code",
   "execution_count": null,
   "metadata": {},
   "outputs": [],
   "source": []
  }
 ],
 "metadata": {
  "kernelspec": {
   "display_name": "Python 3",
   "language": "python",
   "name": "python3"
  },
  "language_info": {
   "codemirror_mode": {
    "name": "ipython",
    "version": 3
   },
   "file_extension": ".py",
   "mimetype": "text/x-python",
   "name": "python",
   "nbconvert_exporter": "python",
   "pygments_lexer": "ipython3",
   "version": "3.6.8"
  }
 },
 "nbformat": 4,
 "nbformat_minor": 1
}
