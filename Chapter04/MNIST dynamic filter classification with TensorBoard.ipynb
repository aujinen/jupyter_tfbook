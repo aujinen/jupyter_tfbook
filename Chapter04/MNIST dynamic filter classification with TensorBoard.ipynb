{
 "cells": [
  {
   "cell_type": "markdown",
   "metadata": {},
   "source": [
    "**[MDT-01]** 必要なモジュールをインポートして、乱数のシードを設定します。"
   ]
  },
  {
   "cell_type": "code",
   "execution_count": 1,
   "metadata": {},
   "outputs": [],
   "source": [
    "import tensorflow as tf\n",
    "import numpy as np\n",
    "import matplotlib.pyplot as plt\n",
    "from tensorflow.examples.tutorials.mnist import input_data\n",
    "\n",
    "np.random.seed(20160703)\n",
    "tf.set_random_seed(20160703)"
   ]
  },
  {
   "cell_type": "markdown",
   "metadata": {},
   "source": [
    "**[MDT-02]** MNISTのデータセットを用意します。"
   ]
  },
  {
   "cell_type": "code",
   "execution_count": 2,
   "metadata": {},
   "outputs": [
    {
     "name": "stdout",
     "output_type": "stream",
     "text": [
      "Extracting /tmp/data/train-images-idx3-ubyte.gz\n",
      "Extracting /tmp/data/train-labels-idx1-ubyte.gz\n",
      "Extracting /tmp/data/t10k-images-idx3-ubyte.gz\n",
      "Extracting /tmp/data/t10k-labels-idx1-ubyte.gz\n"
     ]
    }
   ],
   "source": [
    "mnist = input_data.read_data_sets(\"/tmp/data/\", one_hot=True)\n",
    "### TensorFlowのバージョンによっては下記のwarningが表示されるが、無視するしかない。\n",
    "# WARNING:tensorflow:From <ipython-input-2-******>:1: ...\n",
    "# Instructions for updating:\n",
    "# Please use alternatives such as official/mnist/dataset.py from tensorflow/models.\n",
    "#..."
   ]
  },
  {
   "cell_type": "markdown",
   "metadata": {},
   "source": [
    "**[MDT-03]** 畳込みフィルターが1層のCNNを表現するクラスを定義します。"
   ]
  },
  {
   "cell_type": "code",
   "execution_count": 3,
   "metadata": {},
   "outputs": [],
   "source": [
    "class SingleCNN:\n",
    "    def __init__(self, num_filters, num_units):\n",
    "        with tf.Graph().as_default():\n",
    "            self.prepare_model(num_filters, num_units)\n",
    "            self.prepare_session()\n",
    "\n",
    "    def prepare_model(self, num_filters, num_units):\n",
    "        num_units1 = 14*14*num_filters\n",
    "        num_units2 = num_units\n",
    "        \n",
    "        with tf.name_scope('input'):\n",
    "            x = tf.placeholder(tf.float32, [None, 784], name='input')\n",
    "            x_image = tf.reshape(x, [-1,28,28,1])\n",
    "\n",
    "        with tf.name_scope('convolution'):\n",
    "            W_conv = tf.Variable(\n",
    "                tf.truncated_normal([5,5,1,num_filters], stddev=0.1),\n",
    "                name='conv-filter')\n",
    "            h_conv = tf.nn.conv2d(\n",
    "                x_image, W_conv, strides=[1,1,1,1], padding='SAME',\n",
    "                name='filter-output')\n",
    "\n",
    "        with tf.name_scope('pooling'):            \n",
    "            h_pool =tf.nn.max_pool(h_conv, ksize=[1,2,2,1],\n",
    "                                   strides=[1,2,2,1], padding='SAME',\n",
    "                                   name='max-pool')\n",
    "            h_pool_flat = tf.reshape(h_pool, [-1, 14*14*num_filters],\n",
    "                                     name='pool-output')\n",
    "\n",
    "        with tf.name_scope('fully-connected'):\n",
    "            w2 = tf.Variable(tf.truncated_normal([num_units1, num_units2]))\n",
    "            b2 = tf.Variable(tf.zeros([num_units2]))\n",
    "            hidden2 = tf.nn.relu(tf.matmul(h_pool_flat, w2) + b2,\n",
    "                                 name='fc-output')\n",
    "\n",
    "        with tf.name_scope('softmax'):\n",
    "            w0 = tf.Variable(tf.zeros([num_units2, 10]))\n",
    "            b0 = tf.Variable(tf.zeros([10]))\n",
    "            p = tf.nn.softmax(tf.matmul(hidden2, w0) + b0,\n",
    "                              name='softmax-output')\n",
    "            \n",
    "        with tf.name_scope('optimizer'):\n",
    "            t = tf.placeholder(tf.float32, [None, 10], name='labels')\n",
    "            loss = -tf.reduce_sum(t * tf.log(p), name='loss')\n",
    "            train_step = tf.train.AdamOptimizer(0.0005).minimize(loss)\n",
    "            \n",
    "        with tf.name_scope('evaluator'):\n",
    "            correct_prediction = tf.equal(tf.argmax(p, 1), tf.argmax(t, 1))\n",
    "            accuracy = tf.reduce_mean(tf.cast(correct_prediction,\n",
    "                                              tf.float32), name='accuracy')\n",
    "            \n",
    "        tf.summary.scalar(\"loss\", loss)\n",
    "        tf.summary.scalar(\"accuracy\", accuracy)\n",
    "        tf.summary.histogram(\"convolution_filters\", W_conv)\n",
    "        \n",
    "        self.x, self.t, self.p = x, t, p\n",
    "        self.train_step = train_step\n",
    "        self.loss = loss\n",
    "        self.accuracy = accuracy\n",
    "        \n",
    "    def prepare_session(self):\n",
    "        ### >>> with GPU 80%\n",
    "        #gpuConfig = tf.ConfigProto(\n",
    "        #    gpu_options = tf.GPUOptions(\n",
    "        #        per_process_gpu_memory_fraction = 0.8),\n",
    "        #    device_count = {'GPU':0})\n",
    "        #sess = tf.Session(config = gpuConfig)\n",
    "        ### <<<\n",
    "        #\n",
    "        ### >>> with CPU only\n",
    "        sess = tf.Session()\n",
    "        ### <<<\n",
    "        sess.run(tf.global_variables_initializer())\n",
    "        ### 下記はPython3.6ではエラーとなるので、上記に変更した。\n",
    "        #sess.run(tf.initialize_all_variables())\n",
    "        summary = tf.summary.merge_all()\n",
    "        writer = tf.summary.FileWriter(\"/tmp/mnist_df_logs\", sess.graph)\n",
    "        \n",
    "        self.sess = sess\n",
    "        self.summary = summary\n",
    "        self.writer = writer"
   ]
  },
  {
   "cell_type": "markdown",
   "metadata": {},
   "source": [
    "**[MDT-04]** TensorBoard用のデータ出力ディレクトリーを削除して初期化しておきます。"
   ]
  },
  {
   "cell_type": "code",
   "execution_count": 4,
   "metadata": {},
   "outputs": [],
   "source": [
    "### Windowsの場合、下記の行頭の「#」を削除して使用すること\n",
    "!del /q \\tmp\\mnist_df_logs\n",
    "### Linux等、Windows以外の場合、下記の行頭の「#」を削除し、上記の行頭に「#」を挿入して使用すること\n",
    "#!rm -rf /tmp/mnist_df_logs"
   ]
  },
  {
   "cell_type": "markdown",
   "metadata": {},
   "source": [
    "**[MDT-05]** パラメーターの最適化を4000回繰り返します。テストセットに対して約98%の正解率が得られます。"
   ]
  },
  {
   "cell_type": "code",
   "execution_count": 5,
   "metadata": {},
   "outputs": [
    {
     "name": "stdout",
     "output_type": "stream",
     "text": [
      "Step: 50, Loss: 2835.226562, Accuracy: 0.917300\n",
      "Step: 100, Loss: 2152.826172, Accuracy: 0.936300\n",
      "Step: 150, Loss: 1854.476318, Accuracy: 0.948300\n",
      "Step: 200, Loss: 1919.439087, Accuracy: 0.940800\n",
      "Step: 250, Loss: 1423.470337, Accuracy: 0.958200\n",
      "Step: 300, Loss: 1334.110718, Accuracy: 0.959900\n",
      "Step: 350, Loss: 1268.031982, Accuracy: 0.961700\n",
      "Step: 400, Loss: 1182.166382, Accuracy: 0.963700\n",
      "Step: 450, Loss: 1173.881836, Accuracy: 0.963800\n",
      "Step: 500, Loss: 1054.014282, Accuracy: 0.968500\n",
      "Step: 550, Loss: 1014.436768, Accuracy: 0.970900\n",
      "Step: 600, Loss: 967.272583, Accuracy: 0.970300\n",
      "Step: 650, Loss: 909.070435, Accuracy: 0.972400\n",
      "Step: 700, Loss: 911.728271, Accuracy: 0.972300\n",
      "Step: 750, Loss: 870.296082, Accuracy: 0.973200\n",
      "Step: 800, Loss: 909.182373, Accuracy: 0.972000\n",
      "Step: 850, Loss: 803.462280, Accuracy: 0.975900\n",
      "Step: 900, Loss: 829.588074, Accuracy: 0.975200\n",
      "Step: 950, Loss: 930.559814, Accuracy: 0.972200\n",
      "Step: 1000, Loss: 883.069458, Accuracy: 0.972000\n",
      "Step: 1050, Loss: 881.012756, Accuracy: 0.973200\n",
      "Step: 1100, Loss: 775.750366, Accuracy: 0.976700\n",
      "Step: 1150, Loss: 740.397949, Accuracy: 0.977000\n",
      "Step: 1200, Loss: 743.513550, Accuracy: 0.978600\n",
      "Step: 1250, Loss: 691.970276, Accuracy: 0.978100\n",
      "Step: 1300, Loss: 962.906189, Accuracy: 0.971400\n",
      "Step: 1350, Loss: 810.621948, Accuracy: 0.975700\n",
      "Step: 1400, Loss: 797.021790, Accuracy: 0.975800\n",
      "Step: 1450, Loss: 902.429932, Accuracy: 0.972300\n",
      "Step: 1500, Loss: 699.509277, Accuracy: 0.978500\n",
      "Step: 1550, Loss: 692.778198, Accuracy: 0.978500\n",
      "Step: 1600, Loss: 757.038757, Accuracy: 0.977300\n",
      "Step: 1650, Loss: 786.792236, Accuracy: 0.975400\n",
      "Step: 1700, Loss: 653.290161, Accuracy: 0.979700\n",
      "Step: 1750, Loss: 733.416504, Accuracy: 0.977400\n",
      "Step: 1800, Loss: 697.237732, Accuracy: 0.977200\n",
      "Step: 1850, Loss: 670.917603, Accuracy: 0.979600\n",
      "Step: 1900, Loss: 627.616455, Accuracy: 0.980400\n",
      "Step: 1950, Loss: 651.511841, Accuracy: 0.979700\n",
      "Step: 2000, Loss: 640.480591, Accuracy: 0.980200\n",
      "Step: 2050, Loss: 674.574585, Accuracy: 0.979200\n",
      "Step: 2100, Loss: 677.897827, Accuracy: 0.979500\n",
      "Step: 2150, Loss: 658.464111, Accuracy: 0.979400\n",
      "Step: 2200, Loss: 663.891846, Accuracy: 0.980700\n",
      "Step: 2250, Loss: 635.982178, Accuracy: 0.980300\n",
      "Step: 2300, Loss: 692.713501, Accuracy: 0.979500\n",
      "Step: 2350, Loss: 666.945068, Accuracy: 0.978300\n",
      "Step: 2400, Loss: 669.652588, Accuracy: 0.977700\n",
      "Step: 2450, Loss: 630.595703, Accuracy: 0.980100\n",
      "Step: 2500, Loss: 634.321350, Accuracy: 0.980600\n",
      "Step: 2550, Loss: 701.367554, Accuracy: 0.979900\n",
      "Step: 2600, Loss: 709.595703, Accuracy: 0.980300\n",
      "Step: 2650, Loss: 641.698486, Accuracy: 0.981700\n",
      "Step: 2700, Loss: 670.142700, Accuracy: 0.981000\n",
      "Step: 2750, Loss: 634.543823, Accuracy: 0.981900\n",
      "Step: 2800, Loss: 693.665894, Accuracy: 0.980200\n",
      "Step: 2850, Loss: 633.521851, Accuracy: 0.981700\n",
      "Step: 2900, Loss: 643.408081, Accuracy: 0.980200\n",
      "Step: 2950, Loss: 705.137085, Accuracy: 0.980300\n",
      "Step: 3000, Loss: 654.773438, Accuracy: 0.980900\n",
      "Step: 3050, Loss: 640.288940, Accuracy: 0.982200\n",
      "Step: 3100, Loss: 682.001343, Accuracy: 0.980200\n",
      "Step: 3150, Loss: 652.504761, Accuracy: 0.982000\n",
      "Step: 3200, Loss: 609.813049, Accuracy: 0.983100\n",
      "Step: 3250, Loss: 696.364624, Accuracy: 0.980800\n",
      "Step: 3300, Loss: 638.964844, Accuracy: 0.981800\n",
      "Step: 3350, Loss: 732.883789, Accuracy: 0.979400\n",
      "Step: 3400, Loss: 635.051758, Accuracy: 0.982200\n",
      "Step: 3450, Loss: 566.844299, Accuracy: 0.983900\n",
      "Step: 3500, Loss: 575.054321, Accuracy: 0.983500\n",
      "Step: 3550, Loss: 609.216248, Accuracy: 0.982800\n",
      "Step: 3600, Loss: 617.092773, Accuracy: 0.983100\n",
      "Step: 3650, Loss: 699.208679, Accuracy: 0.980900\n",
      "Step: 3700, Loss: 628.808716, Accuracy: 0.982900\n",
      "Step: 3750, Loss: 714.954102, Accuracy: 0.980700\n",
      "Step: 3800, Loss: 665.292603, Accuracy: 0.981900\n",
      "Step: 3850, Loss: 754.534973, Accuracy: 0.979400\n",
      "Step: 3900, Loss: 699.898682, Accuracy: 0.982700\n",
      "Step: 3950, Loss: 634.000244, Accuracy: 0.982600\n",
      "Step: 4000, Loss: 683.056763, Accuracy: 0.981500\n"
     ]
    }
   ],
   "source": [
    "cnn = SingleCNN(16, 1024)\n",
    "\n",
    "i = 0\n",
    "for _ in range(4000):\n",
    "    i += 1\n",
    "    batch_xs, batch_ts = mnist.train.next_batch(100)\n",
    "    cnn.sess.run(cnn.train_step, feed_dict={cnn.x:batch_xs, cnn.t:batch_ts})\n",
    "    if i % 50 == 0:\n",
    "        summary, loss_val, acc_val = cnn.sess.run(\n",
    "            [cnn.summary, cnn.loss, cnn.accuracy],\n",
    "            feed_dict={cnn.x:mnist.test.images, cnn.t:mnist.test.labels})\n",
    "        print ('Step: %d, Loss: %f, Accuracy: %f'\n",
    "               % (i, loss_val, acc_val))\n",
    "        cnn.writer.add_summary(summary, i)"
   ]
  },
  {
   "cell_type": "code",
   "execution_count": null,
   "metadata": {},
   "outputs": [],
   "source": []
  }
 ],
 "metadata": {
  "kernelspec": {
   "display_name": "Python 3",
   "language": "python",
   "name": "python3"
  },
  "language_info": {
   "codemirror_mode": {
    "name": "ipython",
    "version": 3
   },
   "file_extension": ".py",
   "mimetype": "text/x-python",
   "name": "python",
   "nbconvert_exporter": "python",
   "pygments_lexer": "ipython3",
   "version": "3.6.8"
  }
 },
 "nbformat": 4,
 "nbformat_minor": 1
}
