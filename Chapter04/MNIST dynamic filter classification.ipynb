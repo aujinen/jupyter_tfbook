{
 "cells": [
  {
   "cell_type": "markdown",
   "metadata": {},
   "source": [
    "**[MDC-01]** 必要なモジュールをインポートして、乱数のシードを設定します。"
   ]
  },
  {
   "cell_type": "code",
   "execution_count": 1,
   "metadata": {},
   "outputs": [],
   "source": [
    "import tensorflow as tf\n",
    "import numpy as np\n",
    "import matplotlib.pyplot as plt\n",
    "from tensorflow.examples.tutorials.mnist import input_data\n",
    "### Windwos版では下記が必要\n",
    "import os\n",
    "###\n",
    "np.random.seed(20160703)\n",
    "tf.set_random_seed(20160703)"
   ]
  },
  {
   "cell_type": "markdown",
   "metadata": {},
   "source": [
    "**[MDC-02]** MNISTのデータセットを用意します。"
   ]
  },
  {
   "cell_type": "code",
   "execution_count": 2,
   "metadata": {},
   "outputs": [
    {
     "name": "stdout",
     "output_type": "stream",
     "text": [
      "Extracting /tmp/data/train-images-idx3-ubyte.gz\n",
      "Extracting /tmp/data/train-labels-idx1-ubyte.gz\n",
      "Extracting /tmp/data/t10k-images-idx3-ubyte.gz\n",
      "Extracting /tmp/data/t10k-labels-idx1-ubyte.gz\n"
     ]
    }
   ],
   "source": [
    "mnist = input_data.read_data_sets(\"/tmp/data/\", one_hot=True)\n",
    "### TensorFlowのバージョンによっては下記のwarningが表示されるが、無視するしかない。\n",
    "# WARNING:tensorflow:From <ipython-input-2-******>:1: ...\n",
    "# Instructions for updating:\n",
    "# Please use alternatives such as official/mnist/dataset.py from tensorflow/models.\n",
    "#..."
   ]
  },
  {
   "cell_type": "markdown",
   "metadata": {},
   "source": [
    "**[MDC-03]** フィルターに対応する Variable を用意して、入力データにフィルターとプーリング層を適用する計算式を定義します。"
   ]
  },
  {
   "cell_type": "code",
   "execution_count": 3,
   "metadata": {},
   "outputs": [],
   "source": [
    "num_filters = 16\n",
    "\n",
    "x = tf.placeholder(tf.float32, [None, 784])\n",
    "x_image = tf.reshape(x, [-1,28,28,1])\n",
    "\n",
    "W_conv = tf.Variable(tf.truncated_normal([5,5,1,num_filters],\n",
    "                                         stddev=0.1))\n",
    "h_conv = tf.nn.conv2d(x_image, W_conv,\n",
    "                      strides=[1,1,1,1], padding='SAME')\n",
    "h_pool =tf.nn.max_pool(h_conv, ksize=[1,2,2,1],\n",
    "                       strides=[1,2,2,1], padding='SAME')"
   ]
  },
  {
   "cell_type": "markdown",
   "metadata": {},
   "source": [
    "**[MDC-04]** プーリング層からの出力を全結合層を経由してソフトマックス関数に入力する計算式を定義します。"
   ]
  },
  {
   "cell_type": "code",
   "execution_count": 4,
   "metadata": {},
   "outputs": [],
   "source": [
    "h_pool_flat = tf.reshape(h_pool, [-1, 14*14*num_filters])\n",
    "\n",
    "num_units1 = 14*14*num_filters\n",
    "num_units2 = 1024\n",
    "\n",
    "w2 = tf.Variable(tf.truncated_normal([num_units1, num_units2]))\n",
    "b2 = tf.Variable(tf.zeros([num_units2]))\n",
    "hidden2 = tf.nn.relu(tf.matmul(h_pool_flat, w2) + b2)\n",
    "\n",
    "w0 = tf.Variable(tf.zeros([num_units2, 10]))\n",
    "b0 = tf.Variable(tf.zeros([10]))\n",
    "p = tf.nn.softmax(tf.matmul(hidden2, w0) + b0)"
   ]
  },
  {
   "cell_type": "markdown",
   "metadata": {},
   "source": [
    "**[MDC-05]** 誤差関数 loss、トレーニングアルゴリズム train_step、正解率 accuracy を定義します。"
   ]
  },
  {
   "cell_type": "code",
   "execution_count": 5,
   "metadata": {},
   "outputs": [],
   "source": [
    "t = tf.placeholder(tf.float32, [None, 10])\n",
    "loss = -tf.reduce_sum(t * tf.log(p))\n",
    "train_step = tf.train.AdamOptimizer(0.0005).minimize(loss)\n",
    "correct_prediction = tf.equal(tf.argmax(p, 1), tf.argmax(t, 1))\n",
    "accuracy = tf.reduce_mean(tf.cast(correct_prediction, tf.float32))"
   ]
  },
  {
   "cell_type": "markdown",
   "metadata": {},
   "source": [
    "**[MDC-06]** セッションを用意して、Variable を初期化します。"
   ]
  },
  {
   "cell_type": "code",
   "execution_count": 6,
   "metadata": {
    "scrolled": false
   },
   "outputs": [],
   "source": [
    "### >>> with GPU 80%\n",
    "#gpuConfig = tf.ConfigProto(\n",
    "#    gpu_options = tf.GPUOptions(\n",
    "#        per_process_gpu_memory_fraction = 0.8),\n",
    "#    device_count = {'GPU':0})\n",
    "#sess = tf.Session(config = gpuConfig)\n",
    "### <<<\n",
    "#\n",
    "### >>> with CPU only\n",
    "sess = tf.Session()\n",
    "### <<<\n",
    "sess.run(tf.global_variables_initializer())\n",
    "### 下記はPython3.6ではエラーとなるので、上記に変更した。\n",
    "#sess.run(tf.initialize_all_variables())\n",
    "saver = tf.train.Saver()\n",
    "### Windwos版では下記が必要\n",
    "cwd = os.getcwd()\n",
    "###"
   ]
  },
  {
   "cell_type": "markdown",
   "metadata": {},
   "source": [
    "**[MDC-07]** パラメーターの最適化を4000回繰り返します。\n",
    "\n",
    "最終的に、テストセットに対して約98%の正解率が得られます。"
   ]
  },
  {
   "cell_type": "code",
   "execution_count": 7,
   "metadata": {},
   "outputs": [
    {
     "name": "stdout",
     "output_type": "stream",
     "text": [
      "Step: 100, Loss: 2387.759766, Accuracy: 0.928200\n",
      "Step: 200, Loss: 2044.267822, Accuracy: 0.937100\n",
      "Step: 300, Loss: 1424.071777, Accuracy: 0.958200\n",
      "Step: 400, Loss: 1163.766846, Accuracy: 0.963600\n",
      "Step: 500, Loss: 1061.359375, Accuracy: 0.969400\n",
      "Step: 600, Loss: 1002.458557, Accuracy: 0.968500\n",
      "Step: 700, Loss: 1049.682373, Accuracy: 0.969500\n",
      "Step: 800, Loss: 871.110291, Accuracy: 0.974100\n",
      "Step: 900, Loss: 842.782227, Accuracy: 0.974000\n",
      "Step: 1000, Loss: 900.959839, Accuracy: 0.972300\n",
      "Step: 1100, Loss: 829.934082, Accuracy: 0.974500\n",
      "Step: 1200, Loss: 881.184448, Accuracy: 0.972800\n",
      "Step: 1300, Loss: 1018.865967, Accuracy: 0.971500\n",
      "Step: 1400, Loss: 779.435974, Accuracy: 0.977000\n",
      "Step: 1500, Loss: 832.644531, Accuracy: 0.974900\n",
      "Step: 1600, Loss: 719.168579, Accuracy: 0.976900\n",
      "Step: 1700, Loss: 689.994629, Accuracy: 0.979900\n",
      "Step: 1800, Loss: 714.230713, Accuracy: 0.977300\n",
      "Step: 1900, Loss: 661.875732, Accuracy: 0.979700\n",
      "Step: 2000, Loss: 710.147705, Accuracy: 0.978300\n",
      "Step: 2100, Loss: 714.854614, Accuracy: 0.978300\n",
      "Step: 2200, Loss: 691.398438, Accuracy: 0.979700\n",
      "Step: 2300, Loss: 653.874023, Accuracy: 0.981400\n",
      "Step: 2400, Loss: 666.022095, Accuracy: 0.978900\n",
      "Step: 2500, Loss: 706.790771, Accuracy: 0.977700\n",
      "Step: 2600, Loss: 638.065430, Accuracy: 0.981100\n",
      "Step: 2700, Loss: 760.711914, Accuracy: 0.978100\n",
      "Step: 2800, Loss: 680.777893, Accuracy: 0.980800\n",
      "Step: 2900, Loss: 708.771729, Accuracy: 0.980000\n",
      "Step: 3000, Loss: 659.459534, Accuracy: 0.981900\n",
      "Step: 3100, Loss: 661.992126, Accuracy: 0.981600\n",
      "Step: 3200, Loss: 666.685181, Accuracy: 0.981400\n",
      "Step: 3300, Loss: 755.433838, Accuracy: 0.980000\n",
      "Step: 3400, Loss: 695.688477, Accuracy: 0.981300\n",
      "Step: 3500, Loss: 667.964844, Accuracy: 0.981000\n",
      "Step: 3600, Loss: 637.677979, Accuracy: 0.982000\n",
      "Step: 3700, Loss: 677.582092, Accuracy: 0.981400\n",
      "Step: 3800, Loss: 758.989075, Accuracy: 0.980000\n",
      "Step: 3900, Loss: 683.101440, Accuracy: 0.982900\n",
      "Step: 4000, Loss: 720.801147, Accuracy: 0.981800\n"
     ]
    }
   ],
   "source": [
    "i = 0\n",
    "for _ in range(4000):\n",
    "    i += 1\n",
    "    batch_xs, batch_ts = mnist.train.next_batch(100)\n",
    "    sess.run(train_step, feed_dict={x: batch_xs, t: batch_ts})\n",
    "    if i % 100 == 0:\n",
    "        loss_val, acc_val = sess.run([loss, accuracy],\n",
    "            feed_dict={x:mnist.test.images, t:mnist.test.labels})\n",
    "        print ('Step: %d, Loss: %f, Accuracy: %f'\n",
    "               % (i, loss_val, acc_val))\n",
    "        ### Windwos版        \n",
    "        saver.save(sess, cwd + '\\\\mdc_session', global_step=i)\n",
    "        ### Linux等、Windows以外であれば、下記行頭の「#」を外し、上記の行頭に「#」を入れる。\n",
    "        #saver.save(sess, 'mdc_session', global_step=i)"
   ]
  },
  {
   "cell_type": "markdown",
   "metadata": {},
   "source": [
    "**[MDC-08]** セッション情報を保存したファイルが生成されていることを確認します。"
   ]
  },
  {
   "cell_type": "code",
   "execution_count": 8,
   "metadata": {},
   "outputs": [
    {
     "name": "stdout",
     "output_type": "stream",
     "text": [
      " ドライブ C のボリューム ラベルがありません。\n",
      " ボリューム シリアル番号は xxxx-xxxx です\n",
      "\n",
      " C:\\Users\\xxxx\\Jupyter\\jupyter_tfbook\\Chapter04 のディレクトリ\n",
      "\n",
      "2019/10/31  18:31        38,675,264 mdc_session-3600.data-00000-of-00001\n",
      "2019/10/31  18:31               638 mdc_session-3600.index\n",
      "2019/10/31  18:31            42,615 mdc_session-3600.meta\n",
      "2019/10/31  18:31        38,675,264 mdc_session-3700.data-00000-of-00001\n",
      "2019/10/31  18:31               638 mdc_session-3700.index\n",
      "2019/10/31  18:31            42,615 mdc_session-3700.meta\n",
      "2019/10/31  18:31        38,675,264 mdc_session-3800.data-00000-of-00001\n",
      "2019/10/31  18:31               638 mdc_session-3800.index\n",
      "2019/10/31  18:31            42,615 mdc_session-3800.meta\n",
      "2019/10/31  18:31        38,675,264 mdc_session-3900.data-00000-of-00001\n",
      "2019/10/31  18:31               638 mdc_session-3900.index\n",
      "2019/10/31  18:31            42,615 mdc_session-3900.meta\n",
      "2019/10/31  18:31        38,675,264 mdc_session-4000.data-00000-of-00001\n",
      "2019/10/31  18:31               638 mdc_session-4000.index\n",
      "2019/10/31  18:31            42,615 mdc_session-4000.meta\n",
      "              15 個のファイル         193,592,585 バイト\n",
      "               0 個のディレクトリ  779,282,829,312 バイトの空き領域\n"
     ]
    }
   ],
   "source": [
    "### Windows版\n",
    "!dir mdc_session*\n",
    "### Linux等、Windows以外であれば、下記行頭の「#」を外し、上記の行頭に「#」を入れる。\n",
    "#!ls mdc_session*"
   ]
  },
  {
   "cell_type": "code",
   "execution_count": null,
   "metadata": {},
   "outputs": [],
   "source": []
  }
 ],
 "metadata": {
  "kernelspec": {
   "display_name": "Python 3",
   "language": "python",
   "name": "python3"
  },
  "language_info": {
   "codemirror_mode": {
    "name": "ipython",
    "version": 3
   },
   "file_extension": ".py",
   "mimetype": "text/x-python",
   "name": "python",
   "nbconvert_exporter": "python",
   "pygments_lexer": "ipython3",
   "version": "3.6.8"
  }
 },
 "nbformat": 4,
 "nbformat_minor": 1
}
