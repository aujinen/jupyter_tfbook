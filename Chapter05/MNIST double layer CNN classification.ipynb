{
 "cells": [
  {
   "cell_type": "markdown",
   "metadata": {},
   "source": [
    "**[CNN-01]** 必要なモジュールをインポートして、乱数のシードを設定します。"
   ]
  },
  {
   "cell_type": "code",
   "execution_count": 1,
   "metadata": {},
   "outputs": [],
   "source": [
    "import tensorflow as tf\n",
    "import numpy as np\n",
    "import matplotlib.pyplot as plt\n",
    "from tensorflow.examples.tutorials.mnist import input_data\n",
    "### Windwos版では下記が必要\n",
    "import os\n",
    "###\n",
    "np.random.seed(20160704)\n",
    "tf.set_random_seed(20160704)"
   ]
  },
  {
   "cell_type": "markdown",
   "metadata": {},
   "source": [
    "**[CNN-02]** MNISTのデータセットを用意します。"
   ]
  },
  {
   "cell_type": "code",
   "execution_count": 2,
   "metadata": {},
   "outputs": [
    {
     "name": "stdout",
     "output_type": "stream",
     "text": [
      "Extracting /tmp/data/train-images-idx3-ubyte.gz\n",
      "Extracting /tmp/data/train-labels-idx1-ubyte.gz\n",
      "Extracting /tmp/data/t10k-images-idx3-ubyte.gz\n",
      "Extracting /tmp/data/t10k-labels-idx1-ubyte.gz\n"
     ]
    }
   ],
   "source": [
    "mnist = input_data.read_data_sets(\"/tmp/data/\", one_hot=True)\n",
    "### TensorFlowのバージョンによっては下記のwarningが表示されるが、無視するしかない。\n",
    "# WARNING:tensorflow:From <ipython-input-2-******>:1: ...\n",
    "# Instructions for updating:\n",
    "# Please use alternatives such as official/mnist/dataset.py from tensorflow/models.\n",
    "#..."
   ]
  },
  {
   "cell_type": "markdown",
   "metadata": {},
   "source": [
    "**[CNN-03]** 1段目の畳み込みフィルターとプーリング層を定義します。"
   ]
  },
  {
   "cell_type": "code",
   "execution_count": 3,
   "metadata": {},
   "outputs": [],
   "source": [
    "num_filters1 = 32\n",
    "\n",
    "x = tf.placeholder(tf.float32, [None, 784])\n",
    "x_image = tf.reshape(x, [-1,28,28,1])\n",
    "\n",
    "W_conv1 = tf.Variable(tf.truncated_normal([5,5,1,num_filters1],\n",
    "                                          stddev=0.1))\n",
    "h_conv1 = tf.nn.conv2d(x_image, W_conv1,\n",
    "                       strides=[1,1,1,1], padding='SAME')\n",
    "\n",
    "b_conv1 = tf.Variable(tf.constant(0.1, shape=[num_filters1]))\n",
    "h_conv1_cutoff = tf.nn.relu(h_conv1 + b_conv1)\n",
    "\n",
    "h_pool1 = tf.nn.max_pool(h_conv1_cutoff, ksize=[1,2,2,1],\n",
    "                         strides=[1,2,2,1], padding='SAME')"
   ]
  },
  {
   "cell_type": "markdown",
   "metadata": {},
   "source": [
    "**[CNN-04]** 2段目の畳み込みフィルターとプーリング層を定義します。"
   ]
  },
  {
   "cell_type": "code",
   "execution_count": 4,
   "metadata": {},
   "outputs": [],
   "source": [
    "num_filters2 = 64\n",
    "\n",
    "W_conv2 = tf.Variable(\n",
    "            tf.truncated_normal([5,5,num_filters1,num_filters2],\n",
    "                                stddev=0.1))\n",
    "h_conv2 = tf.nn.conv2d(h_pool1, W_conv2,\n",
    "                       strides=[1,1,1,1], padding='SAME')\n",
    "\n",
    "b_conv2 = tf.Variable(tf.constant(0.1, shape=[num_filters2]))\n",
    "h_conv2_cutoff = tf.nn.relu(h_conv2 + b_conv2)\n",
    "\n",
    "h_pool2 = tf.nn.max_pool(h_conv2_cutoff, ksize=[1,2,2,1],\n",
    "                         strides=[1,2,2,1], padding='SAME')"
   ]
  },
  {
   "cell_type": "markdown",
   "metadata": {},
   "source": [
    "**[CNN-05]** 全結合層、ドロップアウト層、ソフトマックス関数を定義します。"
   ]
  },
  {
   "cell_type": "code",
   "execution_count": 5,
   "metadata": {},
   "outputs": [],
   "source": [
    "h_pool2_flat = tf.reshape(h_pool2, [-1, 7*7*num_filters2])\n",
    "\n",
    "num_units1 = 7*7*num_filters2\n",
    "num_units2 = 1024\n",
    "\n",
    "w2 = tf.Variable(tf.truncated_normal([num_units1, num_units2]))\n",
    "b2 = tf.Variable(tf.constant(0.1, shape=[num_units2]))\n",
    "hidden2 = tf.nn.relu(tf.matmul(h_pool2_flat, w2) + b2)\n",
    "\n",
    "keep_prob = tf.placeholder(tf.float32)\n",
    "hidden2_drop = tf.nn.dropout(hidden2, keep_prob)\n",
    "\n",
    "w0 = tf.Variable(tf.zeros([num_units2, 10]))\n",
    "b0 = tf.Variable(tf.zeros([10]))\n",
    "p = tf.nn.softmax(tf.matmul(hidden2_drop, w0) + b0)"
   ]
  },
  {
   "cell_type": "markdown",
   "metadata": {},
   "source": [
    "**[CNN-06]** 誤差関数 loss、トレーニングアルゴリズム train_step、正解率 accuracy を定義します。"
   ]
  },
  {
   "cell_type": "code",
   "execution_count": 6,
   "metadata": {},
   "outputs": [],
   "source": [
    "t = tf.placeholder(tf.float32, [None, 10])\n",
    "loss = -tf.reduce_sum(t * tf.log(p))\n",
    "train_step = tf.train.AdamOptimizer(0.0001).minimize(loss)\n",
    "correct_prediction = tf.equal(tf.argmax(p, 1), tf.argmax(t, 1))\n",
    "accuracy = tf.reduce_mean(tf.cast(correct_prediction, tf.float32))"
   ]
  },
  {
   "cell_type": "markdown",
   "metadata": {},
   "source": [
    "**[CNN-07]** セッションを用意して、Variable を初期化します。"
   ]
  },
  {
   "cell_type": "code",
   "execution_count": 7,
   "metadata": {},
   "outputs": [],
   "source": [
    "### >>> with GPU 80%\n",
    "#gpuConfig = tf.ConfigProto(\n",
    "#    gpu_options = tf.GPUOptions(\n",
    "#        per_process_gpu_memory_fraction = 0.8),\n",
    "#    device_count = {'GPU':0})\n",
    "#sess = tf.Session(config = gpuConfig)\n",
    "### <<<\n",
    "#\n",
    "### >>> with CPU only\n",
    "sess = tf.Session()\n",
    "### <<<\n",
    "sess.run(tf.global_variables_initializer())\n",
    "### 下記はPython3.6ではエラーとなるので、上記に変更した。\n",
    "#sess.run(tf.initialize_all_variables())\n",
    "saver = tf.train.Saver()\n",
    "### Windwos版では下記が必要\n",
    "cwd = os.getcwd()\n",
    "###"
   ]
  },
  {
   "cell_type": "markdown",
   "metadata": {},
   "source": [
    "**[CNN-08]** パラメーターの最適化を20000回繰り返します。\n",
    "\n",
    "最終的に、テストセットに対して約99%の正解率が得られます。"
   ]
  },
  {
   "cell_type": "code",
   "execution_count": 8,
   "metadata": {
    "scrolled": false
   },
   "outputs": [
    {
     "name": "stdout",
     "output_type": "stream",
     "text": [
      "Step: 500, Loss: 1513.799316, Accuracy: 0.952300\n",
      "Step: 1000, Loss: 947.581787, Accuracy: 0.971700\n",
      "Step: 1500, Loss: 748.515015, Accuracy: 0.976600\n",
      "Step: 2000, Loss: 625.874390, Accuracy: 0.979100\n",
      "Step: 2500, Loss: 592.971558, Accuracy: 0.980500\n",
      "Step: 3000, Loss: 537.917053, Accuracy: 0.982700\n",
      "Step: 3500, Loss: 464.117371, Accuracy: 0.983400\n",
      "Step: 4000, Loss: 464.581024, Accuracy: 0.984800\n",
      "Step: 4500, Loss: 409.833710, Accuracy: 0.985300\n",
      "Step: 5000, Loss: 396.897430, Accuracy: 0.986800\n",
      "Step: 5500, Loss: 411.304321, Accuracy: 0.986000\n",
      "Step: 6000, Loss: 383.888916, Accuracy: 0.986600\n",
      "Step: 6500, Loss: 348.857880, Accuracy: 0.987600\n",
      "Step: 7000, Loss: 372.012115, Accuracy: 0.986600\n",
      "Step: 7500, Loss: 342.798279, Accuracy: 0.988200\n",
      "Step: 8000, Loss: 378.152740, Accuracy: 0.988000\n",
      "Step: 8500, Loss: 324.049042, Accuracy: 0.989400\n",
      "Step: 9000, Loss: 316.414825, Accuracy: 0.989100\n",
      "Step: 9500, Loss: 309.621857, Accuracy: 0.990000\n",
      "Step: 10000, Loss: 317.783905, Accuracy: 0.989700\n",
      "Step: 10500, Loss: 308.829559, Accuracy: 0.989100\n",
      "Step: 11000, Loss: 317.285370, Accuracy: 0.989000\n",
      "Step: 11500, Loss: 286.815826, Accuracy: 0.990500\n",
      "Step: 12000, Loss: 310.908966, Accuracy: 0.989800\n",
      "Step: 12500, Loss: 302.252441, Accuracy: 0.990300\n",
      "Step: 13000, Loss: 315.977783, Accuracy: 0.989300\n",
      "Step: 13500, Loss: 296.525177, Accuracy: 0.991000\n",
      "Step: 14000, Loss: 276.355591, Accuracy: 0.990300\n",
      "Step: 14500, Loss: 284.748169, Accuracy: 0.990700\n",
      "Step: 15000, Loss: 261.227997, Accuracy: 0.991200\n",
      "Step: 15500, Loss: 257.950562, Accuracy: 0.991400\n",
      "Step: 16000, Loss: 303.769135, Accuracy: 0.990100\n",
      "Step: 16500, Loss: 297.388489, Accuracy: 0.989700\n",
      "Step: 17000, Loss: 278.619904, Accuracy: 0.991100\n",
      "Step: 17500, Loss: 262.330872, Accuracy: 0.991700\n",
      "Step: 18000, Loss: 271.132446, Accuracy: 0.990900\n",
      "Step: 18500, Loss: 262.302338, Accuracy: 0.991500\n",
      "Step: 19000, Loss: 254.115463, Accuracy: 0.991300\n",
      "Step: 19500, Loss: 249.980499, Accuracy: 0.991300\n",
      "Step: 20000, Loss: 243.347412, Accuracy: 0.992000\n"
     ]
    }
   ],
   "source": [
    "i = 0\n",
    "for _ in range(20000):\n",
    "    i += 1\n",
    "    batch_xs, batch_ts = mnist.train.next_batch(50)\n",
    "    sess.run(train_step,\n",
    "             feed_dict={x:batch_xs, t:batch_ts, keep_prob:0.5})\n",
    "    if i % 500 == 0:\n",
    "        loss_vals, acc_vals = [], []\n",
    "        for c in range(4):\n",
    "            start = len(mnist.test.labels) // 4 * c\n",
    "            end = len(mnist.test.labels) // 4 * (c+1)\n",
    "            loss_val, acc_val = sess.run([loss, accuracy],\n",
    "                feed_dict={x:mnist.test.images[start:end],\n",
    "                           t:mnist.test.labels[start:end],\n",
    "                           keep_prob:1.0})\n",
    "            loss_vals.append(loss_val)\n",
    "            acc_vals.append(acc_val)\n",
    "        loss_val = np.sum(loss_vals)\n",
    "        acc_val = np.mean(acc_vals)\n",
    "        print ('Step: %d, Loss: %f, Accuracy: %f'\n",
    "               % (i, loss_val, acc_val))\n",
    "        ### Windwos版        \n",
    "        saver.save(sess, cwd + '\\\\cnn_session', global_step=i)\n",
    "        ### Linux等、Windows以外であれば、下記行頭の「#」を外し、上記の行頭に「#」を入れる。\n",
    "        #saver.save(sess, 'cnn_session', global_step=i)"
   ]
  },
  {
   "cell_type": "markdown",
   "metadata": {},
   "source": [
    "**[CNN-09]** セッション情報を保存したファイルが生成されていることを確認します。"
   ]
  },
  {
   "cell_type": "code",
   "execution_count": 9,
   "metadata": {},
   "outputs": [
    {
     "name": "stdout",
     "output_type": "stream",
     "text": [
      " ドライブ C のボリューム ラベルがありません。\n",
      " ボリューム シリアル番号は xxxx-xxxx です\n",
      "\n",
      " C:\\Users\\xxxx\\Jupyter\\jupyter_tfbook\\Chapter05 のディレクトリ\n",
      "\n",
      "2019/10/31  19:43        39,295,616 cnn_session-18000.data-00000-of-00001\n",
      "2019/10/31  19:43               914 cnn_session-18000.index\n",
      "2019/10/31  19:43            66,252 cnn_session-18000.meta\n",
      "2019/10/31  19:43        39,295,616 cnn_session-18500.data-00000-of-00001\n",
      "2019/10/31  19:43               914 cnn_session-18500.index\n",
      "2019/10/31  19:43            66,252 cnn_session-18500.meta\n",
      "2019/10/31  19:43        39,295,616 cnn_session-19000.data-00000-of-00001\n",
      "2019/10/31  19:43               914 cnn_session-19000.index\n",
      "2019/10/31  19:43            66,252 cnn_session-19000.meta\n",
      "2019/10/31  19:44        39,295,616 cnn_session-19500.data-00000-of-00001\n",
      "2019/10/31  19:44               914 cnn_session-19500.index\n",
      "2019/10/31  19:44            66,252 cnn_session-19500.meta\n",
      "2019/10/31  19:44        39,295,616 cnn_session-20000.data-00000-of-00001\n",
      "2019/10/31  19:44               914 cnn_session-20000.index\n",
      "2019/10/31  19:44            66,252 cnn_session-20000.meta\n",
      "              15 個のファイル         196,813,910 バイト\n",
      "               0 個のディレクトリ  779,288,993,792 バイトの空き領域\n"
     ]
    }
   ],
   "source": [
    "### Windows版\n",
    "!dir cnn_session*\n",
    "### Linux等、Windows以外であれば、下記行頭の「#」を外し、上記の行頭に「#」を入れる。\n",
    "#!ls cnn_session*"
   ]
  },
  {
   "cell_type": "code",
   "execution_count": null,
   "metadata": {},
   "outputs": [],
   "source": []
  }
 ],
 "metadata": {
  "kernelspec": {
   "display_name": "Python 3",
   "language": "python",
   "name": "python3"
  },
  "language_info": {
   "codemirror_mode": {
    "name": "ipython",
    "version": 3
   },
   "file_extension": ".py",
   "mimetype": "text/x-python",
   "name": "python",
   "nbconvert_exporter": "python",
   "pygments_lexer": "ipython3",
   "version": "3.6.8"
  }
 },
 "nbformat": 4,
 "nbformat_minor": 1
}
